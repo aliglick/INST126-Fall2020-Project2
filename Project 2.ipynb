{
 "cells": [
  {
   "cell_type": "code",
   "execution_count": 8,
   "metadata": {},
   "outputs": [],
   "source": [
    "def decrypt(ciphertext):\n",
    "    plaintext = \"\"\n",
    "    for i in range (0, len(ciphertext)):\n",
    "        if i%2 == 0:\n",
    "            plain_ascii = ord(ciphertext[i]) - 1\n",
    "            plaintext = plaintext + chr(plain_ascii)\n",
    "        elif i%2 == 1:\n",
    "            plain_ascii = ord(ciphertext[i]) + 1\n",
    "            plaintext = plaintext + chr(plain_ascii)\n",
    "            \n",
    "    print(plaintext)"
   ]
  },
  {
   "cell_type": "code",
   "execution_count": 9,
   "metadata": {
    "scrolled": false
   },
   "outputs": [
    {
     "name": "stdout",
     "output_type": "stream",
     "text": [
      "What is your name? Ali\n",
      "Hello, Ali! Welcome to the Hangman Game!\n",
      "The secret word is _ _ _ _ \n",
      "Number of guesses remaining : 10\n",
      "\n",
      "Please enter a letter : h\n",
      "The secret sentence is : _ _ _ _ \n",
      "Letters used thus far : ['h']\n",
      "Number of guesses remaining : 9\n",
      "\n",
      "Please enter a letter : c\n",
      "The secret sentence is : _ _ _ _ \n",
      "Letters used thus far : ['h', 'c']\n",
      "Number of guesses remaining : 8\n",
      "\n",
      "Please enter a letter : d\n",
      "The secret sentence is : D _ _ _ \n",
      "Letters used thus far : ['h', 'c', 'd']\n",
      "Number of guesses remaining : 7\n",
      "\n",
      "Please enter a letter : n\n",
      "The secret sentence is : D N _ _ \n",
      "Letters used thus far : ['h', 'c', 'd', 'n']\n",
      "Number of guesses remaining : 6\n",
      "\n",
      "Please enter a letter : p\n",
      "The secret sentence is : D N P _ \n",
      "Letters used thus far : ['h', 'c', 'd', 'n', 'p']\n",
      "Number of guesses remaining : 5\n",
      "\n",
      "Please enter a letter : k\n",
      "The secret sentence is : D N P K \n",
      "Letters used thus far : ['h', 'c', 'd', 'n', 'p', 'k']\n",
      "Number of guesses remaining : 4\n",
      "Congratulations! You have guessed the secert word!\n",
      "The decrypted message is: COOL\n"
     ]
    }
   ],
   "source": [
    "import random\n",
    "def hangMan():\n",
    "    words =['WHDSPQZ', 'XHO', 'TTDBFRT', 'QQJYF', 'ENQD', 'DNPK', 'CNTR', 'EHWHOD', 'TSVMOHOF', 'XNOCFQGTM']\n",
    "    word = random.choice(words) # This function will randomly select a word from the list of words above\n",
    "    characters = \"abcdefghijklmnopqrstuvwxyz\"\n",
    "    guesses = 0\n",
    "    guessWord = \"\"\n",
    "    \n",
    "    for char in word:\n",
    "        if char.lower() in characters:\n",
    "            guessWord = guessWord + '_' + ' '                               \n",
    "    lettersGuessed = [] # List for the letters that had already been guessed\n",
    "    name = input(\"What is your name? \") # The user is being asked to enter his/her name \n",
    "    print('Hello, '+ name +'! Welcome to the Hangman Game!')\n",
    "    print('The secret word is ' + guessWord)\n",
    "    print(\"Number of guesses remaining : 10\")\n",
    "    \n",
    "    while(guesses < 10 and ('_' in guessWord)):\n",
    "        letter = input('\\nPlease enter a letter : ') # Asks user to input letter\n",
    "        if letter not in lettersGuessed: # if letter has already been guessed, then add it to the lettersGuessed list\n",
    "            lettersGuessed.append(letter)\n",
    "        if letter.lower() in word.lower() : # check if the letter is present in the secret word\n",
    "            count = 0;\n",
    "            for i in range(0,len(word)): # update the guessSecret with the letter guessed\n",
    "                if(word[i].lower() == letter.lower()):\n",
    "                    count = count + 1\n",
    "                    guessWord = guessWord[0:2*i] + word[i] + guessWord[2 * i + 1:len(guessWord)]                                                   \n",
    "        \n",
    "        guesses = guesses + 1\n",
    "        print('The secret sentence is : ' + guessWord)\n",
    "        print('Letters used thus far : ' + str(lettersGuessed))              \n",
    "        print('Number of guesses remaining : ' + str(10 - guesses))          \n",
    "    \n",
    "    if('_' not in guessWord): # User will win the game if \"_\" is not in guessWord\n",
    "        print(\"Congratulations! You have guessed the secert word!\")\n",
    "        print(\"The decrypted message is: \", end='')\n",
    "        decrypt(word) # Calls the decryption function below\n",
    "    else: # If \"_\" is still in guessWord after 10 tries, user will lose the game\n",
    "        print(\"You lose. The secret word is \" + word)\n",
    "        \n",
    "hangMan() "
   ]
  },
  {
   "cell_type": "code",
   "execution_count": null,
   "metadata": {},
   "outputs": [],
   "source": []
  }
 ],
 "metadata": {
  "kernelspec": {
   "display_name": "Python 3",
   "language": "python",
   "name": "python3"
  },
  "language_info": {
   "codemirror_mode": {
    "name": "ipython",
    "version": 3
   },
   "file_extension": ".py",
   "mimetype": "text/x-python",
   "name": "python",
   "nbconvert_exporter": "python",
   "pygments_lexer": "ipython3",
   "version": "3.8.5"
  }
 },
 "nbformat": 4,
 "nbformat_minor": 4
}
